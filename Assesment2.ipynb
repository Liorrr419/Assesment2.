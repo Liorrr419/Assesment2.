{
 "cells": [
  {
   "cell_type": "code",
   "execution_count": null,
   "id": "205aef63",
   "metadata": {},
   "outputs": [],
   "source": [
    "import pandas as pd\n",
    "from sklearn.tree import DecisionTreeClassifier\n",
    "from sklearn.model_selection import train_test_split\n",
    "from sklearn.preprocessing import StandardScaler"
   ]
  },
  {
   "cell_type": "code",
   "execution_count": null,
   "id": "dcb71512",
   "metadata": {},
   "outputs": [],
   "source": [
    "data= pd.read_csv(\"C:/Users/Lior Anakwah/Desktop/data.csv\")\n",
    "\n",
    "data.column"
   ]
  },
  {
   "cell_type": "code",
   "execution_count": null,
   "id": "f1e0e835",
   "metadata": {},
   "outputs": [],
   "source": [
    "data_features=['latitude','longitude','price','minimum_nights','Neighbourhood']\n",
    "X=data[data_features]\n",
    "y=data.RoomType\n",
    "print(y)"
   ]
  },
  {
   "cell_type": "code",
   "execution_count": 15,
   "id": "212465b0",
   "metadata": {},
   "outputs": [
    {
     "name": "stdout",
     "output_type": "stream",
     "text": [
      "(36671, 5) (12224, 5) (36671,) (12224,)\n"
     ]
    }
   ],
   "source": [
    "X_train, X_test, y_train, y_test = train_test_split(X, y, test_size = 0.25,\n",
    "random_state = 0)\n",
    "print(X_train.shape,X_test.shape,y_train.shape,y_test.shape)"
   ]
  },
  {
   "cell_type": "code",
   "execution_count": null,
   "id": "cd3f3f04",
   "metadata": {},
   "outputs": [],
   "source": [
    "sc=StandardScaler()\n",
    "X_train = sc.fit_transform(X_train)\n",
    "X_test = sc.transform(X_test)\n",
    "print(X_train)\n",
    "print(X_test)"
   ]
  },
  {
   "cell_type": "code",
   "execution_count": 26,
   "id": "cac9c16e",
   "metadata": {},
   "outputs": [
    {
     "name": "stdout",
     "output_type": "stream",
     "text": [
      "[-1 -1 -1 ... -1 -1  1]\n"
     ]
    }
   ],
   "source": [
    "classifier = DecisionTreeClassifier( random_state = 0)\n",
    "classifier.fit(X_train, y_train)\n",
    "y_pred = classifier.predict(X_test)\n",
    "print(y_pred)"
   ]
  },
  {
   "cell_type": "code",
   "execution_count": 23,
   "id": "85de680e",
   "metadata": {},
   "outputs": [
    {
     "name": "stdout",
     "output_type": "stream",
     "text": [
      "The first five rooms to be predicted of the following\n",
      "   latitude  longitude  price  minimum_nights  Neighbourhood\n",
      "0  40.64749  -73.97237    149               1              1\n",
      "1  40.75362  -73.98377    225               1             -1\n",
      "2  40.80902  -73.94190    150               3             -1\n",
      "3  40.68514  -73.95976     89               1              1\n",
      "4  40.79851  -73.94399     80              10             -1\n",
      "The predicted values are\n",
      "[1 1 1 1 1]\n"
     ]
    },
    {
     "name": "stderr",
     "output_type": "stream",
     "text": [
      "C:\\Users\\Lior Anakwah\\anaconda3\\lib\\site-packages\\sklearn\\base.py:443: UserWarning: X has feature names, but DecisionTreeClassifier was fitted without feature names\n",
      "  warnings.warn(\n"
     ]
    }
   ],
   "source": [
    "print('The first five rooms to be predicted of the following')\n",
    "print(X.head())\n",
    "print('The predicted values are')\n",
    "print(classifier.predict(X.head()))"
   ]
  },
  {
   "cell_type": "code",
   "execution_count": null,
   "id": "c743c24b",
   "metadata": {},
   "outputs": [],
   "source": [
    "from sklearn.metrics import classification_report\n",
    "print(classification_report(y_test,y_pred))"
   ]
  },
  {
   "cell_type": "code",
   "execution_count": 35,
   "id": "c0ebebb7",
   "metadata": {},
   "outputs": [
    {
     "data": {
      "text/plain": [
       "array([[5058,   50, 1231],\n",
       "       [  39,  106,  158],\n",
       "       [1155,  187, 4240]], dtype=int64)"
      ]
     },
     "execution_count": 35,
     "metadata": {},
     "output_type": "execute_result"
    }
   ],
   "source": [
    "from sklearn.metrics import confusion_matrix\n",
    "cm = confusion_matrix(y_test, y_pred)\n",
    "cm"
   ]
  },
  {
   "cell_type": "code",
   "execution_count": null,
   "id": "484b6706",
   "metadata": {},
   "outputs": [],
   "source": []
  },
  {
   "cell_type": "code",
   "execution_count": null,
   "id": "21beb72c",
   "metadata": {},
   "outputs": [],
   "source": [
    "#the f1-score for class -1 is 0.80,0.33 for class 0 and 0.76 for class 1. The total number of supports is 12224\n",
    "#The accuracy of this model is 0.77\n",
    "#The precision for -1,0 and 1 is 0.81,0.31,0.75, if the model has no false positives, it has a precision of 1.\n",
    "#The recall of class -1 is 0.80 which means that is the proportion of its class correctly classified.\n"
   ]
  }
 ],
 "metadata": {
  "kernelspec": {
   "display_name": "Python 3 (ipykernel)",
   "language": "python",
   "name": "python3"
  },
  "language_info": {
   "codemirror_mode": {
    "name": "ipython",
    "version": 3
   },
   "file_extension": ".py",
   "mimetype": "text/x-python",
   "name": "python",
   "nbconvert_exporter": "python",
   "pygments_lexer": "ipython3",
   "version": "3.9.13"
  }
 },
 "nbformat": 4,
 "nbformat_minor": 5
}
